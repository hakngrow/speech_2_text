{
 "cells": [
  {
   "cell_type": "markdown",
   "metadata": {},
   "source": [
    "### Speech Recognition\n",
    "\n",
    "- Speech recognition is about translating spoken languages into text. \n",
    "\n",
    "\n",
    "- There are various real-life applications of speech recognition systems e.g. Apple SIRI which recognizes speech and translates it into text, and acts on the translated text subsequently.\n",
    "\n",
    "\n",
    "#### 1. How Does it Work\n",
    "\n",
    "    1.1 Speech input i.e. audio file or captured via microphone\n",
    "    1.2 Convert physical sounds into electrical signals\n",
    "    1.3 Convert electrical signals to digital data using analog-to-digital converter\n",
    "    1.4 Model can be built on digitized data and used to transcribed audion into text\n",
    "\n",
    "\n",
    "- The Hidden Markov Model (HMM), deep neural network models are used to convert the audio into text. \n",
    "\n",
    "\n",
    "- Full details on process is beyond the scope of this blog. \n",
    "\n",
    "\n",
    "- This is a simple demonstration on how to convert speech to text using Python. \n",
    "\n",
    "\n",
    "- I'll use the 'Speech Recognition' API and 'PyAudio' library.\n",
    "\n",
    "\n",
    "- The [Speech Recognition API](https://pypi.org/project/SpeechRecognition/) supports several API’s, here I'll be using the Google speech recognition API. \n",
    "\n",
    "\n",
    "#### 2. Python Libraries\n"
   ]
  },
  {
   "cell_type": "code",
   "execution_count": 1,
   "metadata": {
    "scrolled": false
   },
   "outputs": [
    {
     "name": "stdout",
     "output_type": "stream",
     "text": [
      "Collecting SpeechRecognition\n",
      "  Downloading SpeechRecognition-3.8.1-py2.py3-none-any.whl (32.8 MB)\n",
      "Installing collected packages: SpeechRecognition\n",
      "Successfully installed SpeechRecognition-3.8.1\n"
     ]
    },
    {
     "name": "stderr",
     "output_type": "stream",
     "text": [
      "WARNING: You are using pip version 20.0.2; however, version 20.1.1 is available.\n",
      "You should consider upgrading via the 'c:\\users\\hakng\\anaconda3\\python.exe -m pip install --upgrade pip' command.\n"
     ]
    }
   ],
   "source": [
    "# Install Speech Recognition API\n",
    "!pip install SpeechRecognition"
   ]
  },
  {
   "cell_type": "markdown",
   "metadata": {},
   "source": [
    "#### 3. Convert an Audio File into Text\n",
    "\n",
    "- Import Speech recognition library\n",
    "\n",
    "\n",
    "- Initialize Google speech recognizer class in order to recognize the speech\n",
    "\n",
    "\n",
    "- Audio formats supported by the speech recognition API: WAV, AIFF, AIFF-C, FLAC\n",
    "\n",
    "\n",
    "- I'll be using an audio clip from Winston Churchill's Nazi speech in WAV format.\n",
    "\n",
    "\n",
    "- By default, the Google recognizer reads English. It supports different languages, for more details please check this [documentation](https://cloud.google.com/speech-to-text/docs/languages).\n",
    "\n",
    "\n",
    "- There is a maximum time limit for an individual speech recognition 'session' which seems to be around 60 seconds. "
   ]
  },
  {
   "cell_type": "code",
   "execution_count": 3,
   "metadata": {},
   "outputs": [
    {
     "name": "stdout",
     "output_type": "stream",
     "text": [
      "Converting audio into text ...\n",
      "many people think that the best way to escape War get to dwell at 4\n"
     ]
    }
   ],
   "source": [
    "# Import speech recognition library\n",
    "import speech_recognition as sr\n",
    "\n",
    "# Initialize recognizer class\n",
    "r = sr.Recognizer()\n",
    "\n",
    "def print_audio_text(filename, language_code='EN'):\n",
    "\n",
    "    # Read audio WAV file as source\n",
    "    with sr.AudioFile(filename) as source:\n",
    "\n",
    "        # Parse the audio file and store the transcript \n",
    "        audio_text = r.listen(source)\n",
    "\n",
    "        try:\n",
    "\n",
    "            # Using Google speech recognition\n",
    "            text = r.recognize_google(audio_text, language=language_code)\n",
    "\n",
    "            print('Converting audio into text ...')\n",
    "            print(text)\n",
    "\n",
    "        except:\n",
    "\n",
    "            # The recoginize() method will throw a request error if the API is unreachable\n",
    "             print('Sorry.. run again...')\n",
    "                \n",
    "print_audio_text('nazi.wav')"
   ]
  },
  {
   "cell_type": "markdown",
   "metadata": {},
   "source": [
    "#### 4. Converting to a Different Language\n",
    "\n",
    "To read a french language audio file, you'll need to pass the `languageCode` paramter to the recogonize_google function. Refer to the [documentation](https://cloud.google.com/speech-to-text/docs/languages) for more details."
   ]
  },
  {
   "cell_type": "code",
   "execution_count": 4,
   "metadata": {
    "scrolled": false
   },
   "outputs": [
    {
     "name": "stdout",
     "output_type": "stream",
     "text": [
      "Converting audio into text ...\n",
      "bonjour monsieur bonjour Maman et Lyndon la secrétaire vous appeler il y a 2 jours pour faire une réservation ah oui monsieur bean donne une chambre seule avec baignoire vous avez réservé pour 5 nuits c'est exact voici notre chambre 409 c'est au 4e étage que c'est la dernière vous passez une bonne soirée merci\n"
     ]
    }
   ],
   "source": [
    "# Adding French langauge code\n",
    "print_audio_text('french.wav', language_code='fr-FR')"
   ]
  },
  {
   "cell_type": "markdown",
   "metadata": {},
   "source": [
    "#### 5. Microphone Speech into Text\n",
    "\n",
    "Install the PyAudio library, which enables audio input and output through the microphone and speaker. "
   ]
  },
  {
   "cell_type": "code",
   "execution_count": 1,
   "metadata": {},
   "outputs": [
    {
     "name": "stdout",
     "output_type": "stream",
     "text": [
      "Requirement already satisfied: PyAudio==0.2.11 from file:///C:/Users/hakng/Documents/dsi/projects/speech_2_text/PyAudio-0.2.11-cp37-cp37m-win_amd64.whl in c:\\users\\hakng\\anaconda3\\lib\\site-packages (0.2.11)\n"
     ]
    }
   ],
   "source": [
    "!pip install PyAudio-0.2.11-cp37-cp37m-win_amd64.whl"
   ]
  },
  {
   "cell_type": "code",
   "execution_count": 1,
   "metadata": {
    "scrolled": true
   },
   "outputs": [
    {
     "name": "stdout",
     "output_type": "stream",
     "text": [
      "Please speak into microphone\n",
      "Time's up, thanks\n",
      "Sorry, I did not get that\n"
     ]
    }
   ],
   "source": [
    "import speech_recognition as sr\n",
    "\n",
    "r = sr.Recognizer()\n",
    "\n",
    "def print_microphone_text(language_code='EN'):\n",
    "\n",
    "    # Reading microphone as source\n",
    "    with sr.Microphone() as source:\n",
    "\n",
    "        print('Please speak into microphone')\n",
    "        audio_text = r.listen(source)\n",
    "        print('Time\\'s up, thanks')\n",
    "\n",
    "        try:\n",
    "            # Use Google speech recognition\n",
    "            print('Text: ' + r.recognize_google(audio_text, language_code))\n",
    "\n",
    "        except:\n",
    "             print('Sorry, I did not get that')\n",
    "                \n",
    "print_microphone_text()"
   ]
  },
  {
   "cell_type": "markdown",
   "metadata": {},
   "source": [
    "#### 6. Microphone Speech in a Different Language\n",
    "\n",
    "As before, passing in the `languageCode` to the `recognize_google` function will allow recognition in the respective language."
   ]
  },
  {
   "cell_type": "code",
   "execution_count": 7,
   "metadata": {
    "scrolled": true
   },
   "outputs": [
    {
     "name": "stdout",
     "output_type": "stream",
     "text": [
      "Please speak into microphone\n",
      "Time's up, thanks\n",
      "Sorry, I did not get that\n"
     ]
    }
   ],
   "source": [
    "print_microphone_text('cmn-Hans-CN')"
   ]
  }
 ],
 "metadata": {
  "kernelspec": {
   "display_name": "Python 3",
   "language": "python",
   "name": "python3"
  },
  "language_info": {
   "codemirror_mode": {
    "name": "ipython",
    "version": 3
   },
   "file_extension": ".py",
   "mimetype": "text/x-python",
   "name": "python",
   "nbconvert_exporter": "python",
   "pygments_lexer": "ipython3",
   "version": "3.7.4"
  }
 },
 "nbformat": 4,
 "nbformat_minor": 2
}
