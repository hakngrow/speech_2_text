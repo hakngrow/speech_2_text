{
 "cells": [
  {
   "cell_type": "markdown",
   "metadata": {},
   "source": [
    "### Speech Recognition\n",
    "\n",
    "- Speech recognition is about translating spoken languages into text. \n",
    "\n",
    "\n",
    "- There are various real-life applications of speech recognition systems e.g. Apple SIRI which recognizes speech and translates it into text, and acts on the translated text subsequently.\n",
    "\n",
    "\n",
    "#### 1. How Does it Work\n",
    "\n",
    "    1.1 Speech input i.e. audio file or captured via microphone\n",
    "    1.2 Convert physical sounds into electrical signals\n",
    "    1.3 Convert electrical signals to digital data using analog-to-digital converter\n",
    "    1.4 Model can be built on digitized data and used to transcribed audion into text\n",
    "\n",
    "\n",
    "- The Hidden Markov Model (HMM), deep neural network models are used to convert the audio into text. \n",
    "\n",
    "\n",
    "- Full details on process is beyond the scope of this blog. \n",
    "\n",
    "\n",
    "- This is a simple demonstration on how to convert speech to text using Python. \n",
    "\n",
    "\n",
    "- I'll use the 'Speech Recognition' API and 'PyAudio' library.\n",
    "\n",
    "\n",
    "- The [Speech Recognition API](https://pypi.org/project/SpeechRecognition/) supports several API’s, here I'll be using the Google speech recognition API. \n",
    "\n",
    "\n",
    "#### 2. Python Libraries\n"
   ]
  },
  {
   "cell_type": "code",
   "execution_count": 1,
   "metadata": {
    "scrolled": false
   },
   "outputs": [
    {
     "name": "stdout",
     "output_type": "stream",
     "text": [
      "Collecting SpeechRecognition\n",
      "  Downloading SpeechRecognition-3.8.1-py2.py3-none-any.whl (32.8 MB)\n",
      "Installing collected packages: SpeechRecognition\n",
      "Successfully installed SpeechRecognition-3.8.1\n"
     ]
    },
    {
     "name": "stderr",
     "output_type": "stream",
     "text": [
      "WARNING: You are using pip version 20.0.2; however, version 20.1.1 is available.\n",
      "You should consider upgrading via the 'c:\\users\\hakng\\anaconda3\\python.exe -m pip install --upgrade pip' command.\n"
     ]
    }
   ],
   "source": [
    "# Install Speech Recognition API\n",
    "!pip install SpeechRecognition"
   ]
  },
  {
   "cell_type": "markdown",
   "metadata": {},
   "source": [
    "#### 3. Convert an audio file into text\n",
    "\n",
    "- Import Speech recognition library\n",
    "\n",
    "\n",
    "- Initialize Google speech recognizer class in order to recognize the speech\n",
    "\n",
    "\n",
    "- Audio formats supported by the speech recognition API: WAV, AIFF, AIFF-C, FLAC\n",
    "\n",
    "\n",
    "- I'll be using an audio clip from the movie ‘Taken’\n",
    "\n",
    "\n",
    "- The clip is in WAV format, and it says: “I don’t know who you are I don’t know what you want if you’re looking for ransom I can tell you I don’t have money”\n",
    "\n",
    "\n",
    "By default, the Google recognizer reads English. It supports different languages, for more details please check this [documentation](https://cloud.google.com/speech-to-text/docs/languages)."
   ]
  },
  {
   "cell_type": "code",
   "execution_count": null,
   "metadata": {},
   "outputs": [],
   "source": [
    "# Import speech recognition library\n",
    "import speech_recognition as sr\n",
    "\n",
    "# Initialize recognizer class\n",
    "r = sr.Recognizer()\n",
    "\n",
    "# Reading Audio file as source\n",
    "# listening the audio file and store in audio_text variable\n",
    "\n",
    "with sr.AudioFile('I-dont-know.wav') as source:\n",
    "    \n",
    "    audio_text = r.listen(source)\n",
    "    \n",
    "# recoginize_() method will throw a request error if the API is unreachable, hence using exception handling\n",
    "    try:\n",
    "        \n",
    "        # using google speech recognition\n",
    "        text = r.recognize_google(audio_text)\n",
    "        print('Converting audio transcripts into text ...')\n",
    "        print(text)\n",
    "     \n",
    "    except:\n",
    "         print('Sorry.. run again...')"
   ]
  }
 ],
 "metadata": {
  "kernelspec": {
   "display_name": "Python 3",
   "language": "python",
   "name": "python3"
  },
  "language_info": {
   "codemirror_mode": {
    "name": "ipython",
    "version": 3
   },
   "file_extension": ".py",
   "mimetype": "text/x-python",
   "name": "python",
   "nbconvert_exporter": "python",
   "pygments_lexer": "ipython3",
   "version": "3.7.4"
  }
 },
 "nbformat": 4,
 "nbformat_minor": 2
}
